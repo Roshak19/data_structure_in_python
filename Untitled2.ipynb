{
 "cells": [
  {
   "cell_type": "code",
   "execution_count": 27,
   "id": "b578e489-3bf4-4def-a957-0a6278d74ebc",
   "metadata": {},
   "outputs": [
    {
     "data": {
      "text/plain": [
       "'mavihs'"
      ]
     },
     "execution_count": 27,
     "metadata": {},
     "output_type": "execute_result"
    }
   ],
   "source": [
    "# Q1.Write a code to reverse a string\n",
    "def reverse_string(s):\n",
    "    return s[::-1]\n",
    "\n",
    "reverse_string(\"shivam\")"
   ]
  },
  {
   "cell_type": "code",
   "execution_count": 30,
   "id": "74dc7e0d-a046-4019-95dd-7d15e9e248b5",
   "metadata": {},
   "outputs": [
    {
     "data": {
      "text/plain": [
       "3"
      ]
     },
     "execution_count": 30,
     "metadata": {},
     "output_type": "execute_result"
    }
   ],
   "source": [
    "# Q2. Write a code to count the number of vowels in a string\n",
    "def count_vowels(s):\n",
    "    vowels = 'aeiouAEIOU'\n",
    "    return sum(1 for char in s if char in vowels)\n",
    "count_vowels(\"guitar\")"
   ]
  },
  {
   "cell_type": "code",
   "execution_count": 32,
   "id": "9d994a7d-21ca-4279-8224-d8e76a3496f7",
   "metadata": {},
   "outputs": [
    {
     "data": {
      "text/plain": [
       "True"
      ]
     },
     "execution_count": 32,
     "metadata": {},
     "output_type": "execute_result"
    }
   ],
   "source": [
    "# Q3. Write a code to check if a given string is a palindrome or not\n",
    "def is_palindrome(s):\n",
    "    return s == s[::-1]\n",
    "is_palindrome(\"racecar\")"
   ]
  },
  {
   "cell_type": "code",
   "execution_count": 33,
   "id": "009a4eb9-ec84-4586-86d6-ddc8bbde560a",
   "metadata": {},
   "outputs": [
    {
     "data": {
      "text/plain": [
       "True"
      ]
     },
     "execution_count": 33,
     "metadata": {},
     "output_type": "execute_result"
    }
   ],
   "source": [
    "# Q4. Write a code to check if two given strings are anagrams of each other\n",
    "def are_anagrams(s1, s2):\n",
    "    return sorted(s1) == sorted(s2)\n",
    "\n",
    "are_anagrams(\"listen\",\"silent\")"
   ]
  },
  {
   "cell_type": "code",
   "execution_count": 36,
   "id": "69713bcd-fea7-4570-8b6d-9f9f5fa2fb9a",
   "metadata": {},
   "outputs": [
    {
     "data": {
      "text/plain": [
       "[0, 6, 12]"
      ]
     },
     "execution_count": 36,
     "metadata": {},
     "output_type": "execute_result"
    }
   ],
   "source": [
    "# Q5.Write a code to find all occurrences of a given substring within another string\n",
    "def find_occurrences(string, substring):\n",
    "    positions = []\n",
    "    index = string.find(substring)\n",
    "    while index != -1:\n",
    "        positions.append(index)\n",
    "        index = string.find(substring, index + 1)\n",
    "    return positions\n",
    "\n",
    "find_occurrences(\"hello hello hello\", \"hello\")"
   ]
  },
  {
   "cell_type": "code",
   "execution_count": 38,
   "id": "f6b3d356-c067-4ea8-8f9a-5fa2be53165c",
   "metadata": {},
   "outputs": [
    {
     "data": {
      "text/plain": [
       "'h1e1l2o4'"
      ]
     },
     "execution_count": 38,
     "metadata": {},
     "output_type": "execute_result"
    }
   ],
   "source": [
    "# Q6. Write a code to perform basic string compression using the counts of repeated characters\n",
    "def compress_string(s):\n",
    "    compressed = ''\n",
    "    count = 1\n",
    "    for i in range(1, len(s)):\n",
    "        if s[i] == s[i-1]:\n",
    "            count += 1\n",
    "        else:\n",
    "            compressed += s[i-1] + str(count)\n",
    "            count = 1\n",
    "    compressed += s[-1] + str(count)\n",
    "    return compressed\n",
    "\n",
    "compress_string(\"helloooo\")"
   ]
  },
  {
   "cell_type": "code",
   "execution_count": 42,
   "id": "8834ce78-5f06-4d8c-8c3e-3ed0ca448888",
   "metadata": {},
   "outputs": [
    {
     "data": {
      "text/plain": [
       "True"
      ]
     },
     "execution_count": 42,
     "metadata": {},
     "output_type": "execute_result"
    }
   ],
   "source": [
    "# Q7. Write a code to determine if a string has all unique characters\n",
    "def has_unique_characters(s):\n",
    "    return len(set(s)) == len(s)\n",
    "\n",
    "\n",
    "has_unique_characters(\"asdfghjkl\")"
   ]
  },
  {
   "cell_type": "code",
   "execution_count": 44,
   "id": "4aa2d57e-ad7e-4fc3-a437-9b0f6b3f8637",
   "metadata": {},
   "outputs": [
    {
     "name": "stdout",
     "output_type": "stream",
     "text": [
      "SHIVAM\n",
      "shivam\n"
     ]
    }
   ],
   "source": [
    "# Q8. Write a code to convert a given string to uppercase or lowercase\n",
    "def to_uppercase(s):\n",
    "    return s.upper()\n",
    "\n",
    "def to_lowercase(s):\n",
    "    return s.lower()\n",
    "\n",
    "print(to_uppercase(\"shivam\"))\n",
    "print(to_lowercase(\"SHIVAM\"))"
   ]
  },
  {
   "cell_type": "code",
   "execution_count": 46,
   "id": "1f98bb4d-ecef-470f-926e-d2cb4bfd22a0",
   "metadata": {},
   "outputs": [
    {
     "data": {
      "text/plain": [
       "4"
      ]
     },
     "execution_count": 46,
     "metadata": {},
     "output_type": "execute_result"
    }
   ],
   "source": [
    "# Q9. Write a code to count the number of words in a string\n",
    "def count_words(s):\n",
    "    return len(s.split())\n",
    "\n",
    "count_words(\"gggjjjjkfy fghj dfgh fgh\")\n"
   ]
  },
  {
   "cell_type": "code",
   "execution_count": 47,
   "id": "561935f5-3cb4-42c9-ad7d-65011c40ba90",
   "metadata": {},
   "outputs": [
    {
     "data": {
      "text/plain": [
       "'shivam'"
      ]
     },
     "execution_count": 47,
     "metadata": {},
     "output_type": "execute_result"
    }
   ],
   "source": [
    "# Q10. Write a code to concatenate two strings without using the + operator\n",
    "def concatenate_strings(s1, s2):\n",
    "    return \"{}{}\".format(s1, s2)\n",
    "\n",
    "concatenate_strings(\"shi\",\"vam\")"
   ]
  },
  {
   "cell_type": "code",
   "execution_count": 48,
   "id": "3bbb8333-597b-451d-af85-5a4fdd371658",
   "metadata": {},
   "outputs": [
    {
     "data": {
      "text/plain": [
       "['g', 'd', 'y', 'y', ' ', 'g', 'd', 'y']"
      ]
     },
     "execution_count": 48,
     "metadata": {},
     "output_type": "execute_result"
    }
   ],
   "source": [
    "# Q11. Write a code to remove all occurrences of a specific element from a list\n",
    "def remove_element(lst, element):\n",
    "    return [x for x in lst if x != element]\n",
    "\n",
    "remove_element(\"goodyy goody\",\"o\")"
   ]
  },
  {
   "cell_type": "code",
   "execution_count": 50,
   "id": "fbdc9b92-5aaa-4659-ada0-c28d8447a5f6",
   "metadata": {},
   "outputs": [
    {
     "data": {
      "text/plain": [
       "678"
      ]
     },
     "execution_count": 50,
     "metadata": {},
     "output_type": "execute_result"
    }
   ],
   "source": [
    "# Q12. Implement a code to find the second largest number in a given list of integers\n",
    "def second_largest(lst):\n",
    "    unique_lst = list(set(lst))\n",
    "    unique_lst.sort()\n",
    "    return unique_lst[-2]\n",
    "\n",
    "second_largest([2,3,4,6,7,7,710,678])"
   ]
  },
  {
   "cell_type": "code",
   "execution_count": 51,
   "id": "a3b2ace1-ce13-4f10-be7f-026b1507086e",
   "metadata": {},
   "outputs": [
    {
     "name": "stdout",
     "output_type": "stream",
     "text": [
      "{1: 1, 2: 2, 3: 3, 4: 1}\n"
     ]
    }
   ],
   "source": [
    "# Q13. Create a code to count the occurrences of each element in a list and return a dictionary with elements as keys and their counts as values\n",
    "def count_elements(lst):\n",
    "    counts = {}\n",
    "    for item in lst:\n",
    "        counts[item] = counts.get(item, 0) + 1\n",
    "    return counts\n",
    "\n",
    "lst = [1, 2, 2, 3, 3, 3, 4]\n",
    "result = count_elements(lst)\n",
    "print(result)\n"
   ]
  },
  {
   "cell_type": "code",
   "execution_count": 52,
   "id": "4bf6f7ee-80db-4d0a-8065-27caeda85094",
   "metadata": {},
   "outputs": [
    {
     "name": "stdout",
     "output_type": "stream",
     "text": [
      "[5, 4, 3, 2, 1]\n"
     ]
    }
   ],
   "source": [
    "# Q14. Write a code to reverse a list in-place without using any built-in reverse functions\n",
    "def reverse_list(lst):\n",
    "    n = len(lst)\n",
    "    for i in range(n//2):\n",
    "        lst[i], lst[n-i-1] = lst[n-i-1], lst[i]\n",
    "    return lst\n",
    "\n",
    "lst = [1, 2, 3, 4, 5]\n",
    "reversed_lst = reverse_list(lst)\n",
    "print(reversed_lst)\n"
   ]
  },
  {
   "cell_type": "code",
   "execution_count": 53,
   "id": "ad1dc607-b091-4fc0-b82b-cd6e79a48fdf",
   "metadata": {},
   "outputs": [
    {
     "name": "stdout",
     "output_type": "stream",
     "text": [
      "[1, 2, 3, 4, 5]\n"
     ]
    }
   ],
   "source": [
    "# Q15.  Implement a code to find and remove duplicates from a list while preserving the original order of elements\n",
    "def remove_duplicates(lst):\n",
    "    seen = set()\n",
    "    result = []\n",
    "    for item in lst:\n",
    "        if item not in seen:\n",
    "            seen.add(item)\n",
    "            result.append(item)\n",
    "    return result\n",
    "\n",
    "lst = [1, 2, 2, 3, 4, 4, 5]\n",
    "unique_list = remove_duplicates(lst)\n",
    "print(unique_list)\n"
   ]
  },
  {
   "cell_type": "code",
   "execution_count": 55,
   "id": "13da323f-b627-4e75-be6f-d4dba92256fe",
   "metadata": {},
   "outputs": [
    {
     "name": "stdout",
     "output_type": "stream",
     "text": [
      "True\n",
      "True\n",
      "False\n"
     ]
    }
   ],
   "source": [
    "# Q16. Create a code to check if a given list is sorted (either in ascending or descending order) or not\n",
    "def is_sorted(lst):\n",
    "    return lst == sorted(lst) or lst == sorted(lst, reverse=True)\n",
    "\n",
    "print(is_sorted([1, 2, 3, 4]))       # Output: True (Ascending)\n",
    "print(is_sorted([4, 3, 2, 1]))       # Output: True (Descending)\n",
    "print(is_sorted([1, 3, 2, 4]))       # Output: False (Not Sorted)\n"
   ]
  },
  {
   "cell_type": "code",
   "execution_count": 56,
   "id": "c414831d-d2c9-434c-94c9-c16dd615f4d4",
   "metadata": {},
   "outputs": [
    {
     "name": "stdout",
     "output_type": "stream",
     "text": [
      "[1, 2, 3, 4, 5, 6]\n"
     ]
    }
   ],
   "source": [
    "# Q17.Write a code to merge two sorted lists into a single sorted list\n",
    "def merge_sorted_lists(lst1, lst2):\n",
    "    return sorted(lst1 + lst2)\n",
    "\n",
    "list1 = [1, 3, 5]\n",
    "list2 = [2, 4, 6]\n",
    "result = merge_sorted_lists(list1, list2)\n",
    "print(result)\n"
   ]
  },
  {
   "cell_type": "code",
   "execution_count": 57,
   "id": "15967ce6-6edb-4831-831d-e7d362f3d15b",
   "metadata": {},
   "outputs": [
    {
     "name": "stdout",
     "output_type": "stream",
     "text": [
      "[3, 4]\n"
     ]
    }
   ],
   "source": [
    "# Q18. Implement a code to find the intersection of two given lists\n",
    "def intersection(lst1, lst2):\n",
    "    return list(set(lst1) & set(lst2))\n",
    "\n",
    "lst1 = [1, 2, 3, 4]\n",
    "lst2 = [3, 4, 5, 6]\n",
    "result = intersection(lst1, lst2)\n",
    "print(result)\n"
   ]
  },
  {
   "cell_type": "code",
   "execution_count": 58,
   "id": "c32d3d31-c7b9-46fb-a1e7-6b09c29a2a41",
   "metadata": {},
   "outputs": [
    {
     "name": "stdout",
     "output_type": "stream",
     "text": [
      "[1, 2, 3, 4, 5, 6]\n"
     ]
    }
   ],
   "source": [
    "# Q19.Create a code to find the union of two lists without duplicates\n",
    "def union(lst1, lst2):\n",
    "    return list(set(lst1) | set(lst2))\n",
    "\n",
    "lst1 = [1, 2, 3, 4]\n",
    "lst2 = [3, 4, 5, 6]\n",
    "result = union(lst1, lst2)\n",
    "print(result)\n"
   ]
  },
  {
   "cell_type": "code",
   "execution_count": 59,
   "id": "dd6b0b85-0fd7-4d49-95cf-a1771e360927",
   "metadata": {},
   "outputs": [
    {
     "name": "stdout",
     "output_type": "stream",
     "text": [
      "[1, 4, 3, 2, 5]\n"
     ]
    }
   ],
   "source": [
    "# Q20.  Write a code to shuffle a given list randomly without using any built-in shuffle functions\n",
    "import random\n",
    "def manual_shuffle(lst):\n",
    "    for i in range(len(lst)-1, 0, -1):\n",
    "        j = random.randint(0, i)\n",
    "        lst[i], lst[j] = lst[j], lst[i]\n",
    "    return lst\n",
    "\n",
    "lst = [1, 2, 3, 4, 5]\n",
    "shuffled_lst = manual_shuffle(lst)\n",
    "print(shuffled_lst)\n"
   ]
  },
  {
   "cell_type": "code",
   "execution_count": 60,
   "id": "69c8bc2f-9d47-4596-b2b1-324a964ec900",
   "metadata": {},
   "outputs": [
    {
     "name": "stdout",
     "output_type": "stream",
     "text": [
      "(3, 4)\n"
     ]
    }
   ],
   "source": [
    "# Q21. Write a code that takes two tuples as input and returns a new tuple containing elements that are common to both input tuples\n",
    "def common_elements(t1, t2):\n",
    "    return tuple(set(t1) & set(t2))\n",
    "\n",
    "tuple1 = (1, 2, 3, 4)\n",
    "tuple2 = (3, 4, 5, 6)\n",
    "result = common_elements(tuple1, tuple2)\n",
    "print(result)\n"
   ]
  },
  {
   "cell_type": "code",
   "execution_count": 26,
   "id": "f56c5022-d00e-47a0-b721-1601c7f9c581",
   "metadata": {},
   "outputs": [
    {
     "name": "stdin",
     "output_type": "stream",
     "text": [
      "Enter first set (comma separated):  2,4,6\n",
      "Enter second set (comma separated):  6,8,9\n"
     ]
    },
    {
     "name": "stdout",
     "output_type": "stream",
     "text": [
      "{6}\n"
     ]
    }
   ],
   "source": [
    "# Q22.Create a code that prompts the user to enter two sets of integers separated by commas.Then, print the intersection of these two sets\n",
    "def intersection_of_sets():\n",
    "    set1 = set(map(int, input(\"Enter first set (comma separated): \").split(',')))\n",
    "    set2 = set(map(int, input(\"Enter second set (comma separated): \").split(',')))\n",
    "    print(set1 & set2)\n",
    "\n",
    "\n",
    "intersection_of_sets()"
   ]
  },
  {
   "cell_type": "code",
   "execution_count": 62,
   "id": "eb00d669-a146-4aee-9e33-cad6831f9e7c",
   "metadata": {},
   "outputs": [
    {
     "data": {
      "text/plain": [
       "(1, 2, 3, 4, 5, 6)"
      ]
     },
     "execution_count": 62,
     "metadata": {},
     "output_type": "execute_result"
    }
   ],
   "source": [
    "# Q23. Write a code to concatenate two tuples. The function should take two tuples as input and return a new tuple containing elements from both input tuples.\n",
    "\n",
    "def concatenate_tuples(t1, t2):\n",
    "    return t1 + t2\n",
    "\n",
    "tuple1 = (1, 2, 3)\n",
    "tuple2 = (4, 5, 6)\n",
    "concatenate_tuples(tuple1, tuple2)\n",
    "\n"
   ]
  },
  {
   "cell_type": "code",
   "execution_count": 63,
   "id": "dc9cee91-8024-49a9-8f84-07e8c9b9f9d8",
   "metadata": {},
   "outputs": [
    {
     "name": "stdin",
     "output_type": "stream",
     "text": [
      "Enter first set (comma separated):  apple,banana,orange\n",
      "Enter second set (comma separated):  banana,grape\n"
     ]
    },
    {
     "name": "stdout",
     "output_type": "stream",
     "text": [
      "{'apple', 'orange'}\n"
     ]
    }
   ],
   "source": [
    "# Q24. Develop a code that prompts the user to input two sets of strings. Then, print the elements that are present in the first set but not in the second set\n",
    "def difference_of_sets():\n",
    "    set1 = set(input(\"Enter first set (comma separated): \").split(','))\n",
    "    set2 = set(input(\"Enter second set (comma separated): \").split(','))\n",
    "    print(set1 - set2)\n",
    "    \n",
    "difference_of_sets()"
   ]
  },
  {
   "cell_type": "code",
   "execution_count": 64,
   "id": "0b42aceb-ff62-4b60-a5cc-7b7ff6e44fa7",
   "metadata": {},
   "outputs": [
    {
     "name": "stdout",
     "output_type": "stream",
     "text": [
      "(2, 3, 4)\n"
     ]
    }
   ],
   "source": [
    "# Q25. Create a code that takes a tuple and two integers as input. The function should return a new tuple containing elements from the original tuple within the specified range of indices\n",
    "def slice_tuple(t, start, end):\n",
    "    return t[start:end]\n",
    "\n",
    "t = (1, 2, 3, 4, 5)\n",
    "start = 1\n",
    "end = 4\n",
    "result = slice_tuple(t, start, end)\n",
    "print(result)\n"
   ]
  },
  {
   "cell_type": "code",
   "execution_count": 65,
   "id": "788dfa4c-a078-438c-bc12-91c0fd1e4a1f",
   "metadata": {},
   "outputs": [
    {
     "name": "stdin",
     "output_type": "stream",
     "text": [
      "Enter first set (comma separated):  a,b,c\n",
      "Enter second set (comma separated):  c,d,e\n"
     ]
    },
    {
     "name": "stdout",
     "output_type": "stream",
     "text": [
      "{'b', 'a', 'c', 'e', 'd'}\n"
     ]
    }
   ],
   "source": [
    "# Q26. Write a code that prompts the user to input two sets of characters. Then, print the union of these two sets\n",
    "def union_of_sets():\n",
    "    set1 = set(input(\"Enter first set (comma separated): \").split(','))\n",
    "    set2 = set(input(\"Enter second set (comma separated): \").split(','))\n",
    "    print(set1 | set2)\n",
    "\n",
    "union_of_sets()"
   ]
  },
  {
   "cell_type": "code",
   "execution_count": 67,
   "id": "59cdf449-7ef9-400f-91c2-1a438d056129",
   "metadata": {},
   "outputs": [
    {
     "name": "stdout",
     "output_type": "stream",
     "text": [
      "(9, 1)\n"
     ]
    }
   ],
   "source": [
    "# Q27. Develop a code that takes a tuple of integers as input. The function should return the maximum and minimum values from the tuple using tuple unpacking\n",
    "def max_min(t):\n",
    "    return max(t), min(t)\n",
    "\n",
    "t = (3, 1, 4, 1, 5, 9)\n",
    "result = max_min(t)\n",
    "print(result)\n"
   ]
  },
  {
   "cell_type": "code",
   "execution_count": 68,
   "id": "8aa9416c-2cda-4508-b6b7-5540c585ee76",
   "metadata": {},
   "outputs": [
    {
     "name": "stdout",
     "output_type": "stream",
     "text": [
      "Union: {1, 2, 3, 4}\n",
      "Intersection: {2, 3}\n",
      "Difference: {1}\n"
     ]
    }
   ],
   "source": [
    "# Q28. Create a code that defines two sets of integers. Then, print the union, intersection, and difference of these two sets\n",
    "def set_operations():\n",
    "    set1 = {1, 2, 3}\n",
    "    set2 = {2, 3, 4}\n",
    "    print(\"Union:\", set1 | set2)\n",
    "    print(\"Intersection:\", set1 & set2)\n",
    "    print(\"Difference:\", set1 - set2)\n",
    "\n",
    "set_operations()"
   ]
  },
  {
   "cell_type": "code",
   "execution_count": 69,
   "id": "8b2794c7-721e-4c13-9d29-9258290c0781",
   "metadata": {},
   "outputs": [
    {
     "name": "stdout",
     "output_type": "stream",
     "text": [
      "3\n"
     ]
    }
   ],
   "source": [
    "# Q29. Write a code that takes a tuple and an element as input. The function should return the count of occurrences of the given element in the tuple\n",
    "def count_element(t, element):\n",
    "    return t.count(element)\n",
    "\n",
    "t = (1, 2, 3, 1, 2, 1)\n",
    "element = 1\n",
    "result = count_element(t, element)\n",
    "print(result)\n",
    "\n",
    "\n"
   ]
  },
  {
   "cell_type": "code",
   "execution_count": 71,
   "id": "72ba5d8f-84a6-4cfa-bf32-74c9aa25bedf",
   "metadata": {},
   "outputs": [
    {
     "name": "stdin",
     "output_type": "stream",
     "text": [
      "Enter first set (comma separated):  apple,banana,pear\n",
      "Enter second set (comma separated):  banana,grape\n"
     ]
    },
    {
     "name": "stdout",
     "output_type": "stream",
     "text": [
      "{'grape', 'apple', 'pear'}\n"
     ]
    }
   ],
   "source": [
    "# Q30. Develop a code that prompts the user to input two sets of strings. Then, print the symmetric difference of these two sets\n",
    "def symmetric_difference():\n",
    "    set1 = set(input(\"Enter first set (comma separated): \").split(','))\n",
    "    set2 = set(input(\"Enter second set (comma separated): \").split(','))\n",
    "    print(set1 ^ set2)\n",
    "\n",
    "symmetric_difference()"
   ]
  },
  {
   "cell_type": "code",
   "execution_count": 72,
   "id": "d80e648b-fc5f-4fa2-b6c0-d2b619c72e95",
   "metadata": {},
   "outputs": [
    {
     "name": "stdout",
     "output_type": "stream",
     "text": [
      "{'apple': 3, 'banana': 2, 'orange': 1}\n"
     ]
    }
   ],
   "source": [
    "# Q31. Write a code that takes a list of words as input and returns a dictionary where the keys are unique words and the values are the frequencies of those words in the input list\n",
    "def word_frequency(words):\n",
    "    freq = {}\n",
    "    for word in words:\n",
    "        freq[word] = freq.get(word, 0) + 1\n",
    "    return freq\n",
    "\n",
    "words = [\"apple\", \"banana\", \"apple\", \"orange\", \"banana\", \"apple\"]\n",
    "result = word_frequency(words)\n",
    "print(result)\n"
   ]
  },
  {
   "cell_type": "code",
   "execution_count": 73,
   "id": "138f2233-edaf-42d2-a6bb-f652bc9269e2",
   "metadata": {},
   "outputs": [
    {
     "name": "stdout",
     "output_type": "stream",
     "text": [
      "{'a': 1, 'b': 5, 'c': 7, 'd': 5}\n"
     ]
    }
   ],
   "source": [
    "# Q32. Write a code that takes two dictionaries as input and merges them into a single dictionary. If there are common keys, the values should be added together\n",
    "def merge_dicts(d1, d2):\n",
    "    result = d1.copy()\n",
    "    for key, value in d2.items():\n",
    "        result[key] = result.get(key, 0) + value\n",
    "    return result\n",
    "\n",
    "d1 = {'a': 1, 'b': 2, 'c': 3}\n",
    "d2 = {'b': 3, 'c': 4, 'd': 5}\n",
    "result = merge_dicts(d1, d2)\n",
    "print(result)\n",
    "\n"
   ]
  },
  {
   "cell_type": "code",
   "execution_count": 74,
   "id": "0eac71aa-4847-4458-ad5d-cc376f94cbfb",
   "metadata": {},
   "outputs": [
    {
     "name": "stdout",
     "output_type": "stream",
     "text": [
      "42\n",
      "None\n"
     ]
    }
   ],
   "source": [
    "# Q33. Write a code to access a value in a nested dictionary. The function should take the dictionary and a list of keys as input, and return the corresponding value. If any of the keys do not exist in the dictionary, the function should return None\n",
    "def access_nested_dict(d, keys):\n",
    "    for key in keys:\n",
    "        if isinstance(d, dict) and key in d:\n",
    "            d = d[key]\n",
    "        else:\n",
    "            return None\n",
    "    return d\n",
    "\n",
    "nested_dict = {'a': {'b': {'c': 42}}}\n",
    "keys = ['a', 'b', 'c']\n",
    "result = access_nested_dict(nested_dict, keys)\n",
    "print(result)  # Output: 42\n",
    "\n",
    "keys = ['a', 'b', 'd']\n",
    "result = access_nested_dict(nested_dict, keys)\n",
    "print(result)  # Output: None\n"
   ]
  },
  {
   "cell_type": "code",
   "execution_count": 75,
   "id": "645d249b-9c04-4f5b-9875-10e9487a5fed",
   "metadata": {},
   "outputs": [
    {
     "name": "stdout",
     "output_type": "stream",
     "text": [
      "{'b': 1, 'c': 2, 'a': 3}\n"
     ]
    }
   ],
   "source": [
    "# Q34. Write a code that takes a dictionary as input and returns a sorted version of it based on the values\n",
    "def sort_dict_by_values(d, reverse=False):\n",
    "    return dict(sorted(d.items(), key=lambda item: item[1], reverse=reverse))\n",
    "\n",
    "d = {'a': 3, 'b': 1, 'c': 2}\n",
    "result = sort_dict_by_values(d)\n",
    "print(result)\n"
   ]
  },
  {
   "cell_type": "code",
   "execution_count": 76,
   "id": "47609b76-6a67-4cf3-9946-83b0b629fd92",
   "metadata": {},
   "outputs": [
    {
     "name": "stdout",
     "output_type": "stream",
     "text": [
      "{1: ['a', 'c'], 2: ['b']}\n"
     ]
    }
   ],
   "source": [
    "# Q35. Write a code that inverts a dictionary, swapping keys and values. Ensure that the inverted dictionary correctly handles cases where multiple keys have the same value by storing the keys as a list in the inverted dictionary.\n",
    "def invert_dict(d):\n",
    "    inverted = {}\n",
    "    for key, value in d.items():\n",
    "        inverted.setdefault(value, []).append(key)\n",
    "    return inverted\n",
    "\n",
    "d = {'a': 1, 'b': 2, 'c': 1}\n",
    "result = invert_dict(d)\n",
    "print(result)\n"
   ]
  },
  {
   "cell_type": "code",
   "execution_count": null,
   "id": "0a63fd3e-40ec-4105-8cff-94af262ecb6f",
   "metadata": {},
   "outputs": [],
   "source": []
  }
 ],
 "metadata": {
  "kernelspec": {
   "display_name": "Python 3 (ipykernel)",
   "language": "python",
   "name": "python3"
  },
  "language_info": {
   "codemirror_mode": {
    "name": "ipython",
    "version": 3
   },
   "file_extension": ".py",
   "mimetype": "text/x-python",
   "name": "python",
   "nbconvert_exporter": "python",
   "pygments_lexer": "ipython3",
   "version": "3.12.5"
  }
 },
 "nbformat": 4,
 "nbformat_minor": 5
}
